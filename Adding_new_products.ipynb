{
  "nbformat": 4,
  "nbformat_minor": 0,
  "metadata": {
    "colab": {
      "name": "Adding_new_products.ipynb",
      "provenance": [],
      "authorship_tag": "ABX9TyMfKCu2dU4UcHr58eWySK9D",
      "include_colab_link": true
    },
    "kernelspec": {
      "name": "python3",
      "display_name": "Python 3"
    },
    "language_info": {
      "name": "python"
    }
  },
  "cells": [
    {
      "cell_type": "markdown",
      "metadata": {
        "id": "view-in-github",
        "colab_type": "text"
      },
      "source": [
        "<a href=\"https://colab.research.google.com/github/amber-gupta/Inventory_Management_System/blob/main/Adding_new_products.ipynb\" target=\"_parent\"><img src=\"https://colab.research.google.com/assets/colab-badge.svg\" alt=\"Open In Colab\"/></a>"
      ]
    },
    {
      "cell_type": "code",
      "metadata": {
        "id": "WXJVfOT_qty6"
      },
      "source": [
        "import json\n",
        "fd = open(\"record.json\",'r')\n",
        "r = fd.read()\n",
        "fd.close()\n",
        "\n",
        "record = json.loads(r)"
      ],
      "execution_count": 1,
      "outputs": []
    },
    {
      "cell_type": "code",
      "metadata": {
        "colab": {
          "base_uri": "https://localhost:8080/"
        },
        "id": "jn1K2XY0reIv",
        "outputId": "97f8fd7b-d7ec-43ad-9a17-de6dbcde02d8"
      },
      "source": [
        "record\n"
      ],
      "execution_count": 2,
      "outputs": [
        {
          "output_type": "execute_result",
          "data": {
            "text/plain": [
              "{'1001': {'name': 'Choco Cake', 'pr': 100, 'qn': 34},\n",
              " '1002': {'name': 'Milk Cake', 'pr': 800, 'qn': 100},\n",
              " '1003': {'name': 'Drink', 'pr': 85, 'qn': 100},\n",
              " '1004': {'name': 'Candy', 'pr': 5, 'qn': 1000},\n",
              " '1005': {'name': 'Pen', 'pr': 20, 'qn': 100},\n",
              " '1006': {'name': 'Phone', 'pr': 50000, 'qn': 10},\n",
              " '1007': {'name': 'Mic', 'pr': 1500, 'qn': 0},\n",
              " '1008': {'name': 'Case', 'pr': 599, 'qn': 5},\n",
              " '1009': {'name': 'Keyboard', 'pr': 1999, 'qn': 10}}"
            ]
          },
          "metadata": {},
          "execution_count": 2
        }
      ]
    },
    {
      "cell_type": "markdown",
      "metadata": {
        "id": "MUY3eCL0rjvw"
      },
      "source": [
        "## Adding New Item into Inventory"
      ]
    },
    {
      "cell_type": "code",
      "metadata": {
        "colab": {
          "base_uri": "https://localhost:8080/"
        },
        "id": "TVuqyIukrw8o",
        "outputId": "c6b26843-c691-43f1-b35b-a5067903950b"
      },
      "source": [
        "prod_id = str(input(\"Enter product id:\"))\n",
        "name = str(input(\"Enter name:\"))\n",
        "pr = int(input(\"Enter price:\"))\n",
        "qn = int(input(\"Enter quantity:\"))\n",
        "\n",
        "record[prod_id] = {'name': name, 'pr': pr, 'qn': qn}\n",
        "\n",
        "js = json.dumps(record)\n",
        "\n",
        "fd = open(\"record.json\",'w')\n",
        "fd.write(js)\n",
        "fd.close()"
      ],
      "execution_count": 13,
      "outputs": [
        {
          "name": "stdout",
          "output_type": "stream",
          "text": [
            "Enter product id:1011\n",
            "Enter name:Pranav\n",
            "Enter price:22\n",
            "Enter quantity:1\n"
          ]
        }
      ]
    },
    {
      "cell_type": "code",
      "metadata": {
        "colab": {
          "base_uri": "https://localhost:8080/"
        },
        "id": "UVTUm7OyrzOE",
        "outputId": "0e8bae58-9a1e-4367-c214-b83afe60eba7"
      },
      "source": [
        "record"
      ],
      "execution_count": 14,
      "outputs": [
        {
          "output_type": "execute_result",
          "data": {
            "text/plain": [
              "{'1001': {'name': 'Kapil', 'pr': 3231, 'qn': 2},\n",
              " '1002': {'name': 'Aman', 'pr': 100, 'qn': 1},\n",
              " '1003': {'name': 'Rahul', 'pr': 5000, 'qn': 4},\n",
              " '1004': {'name': 'Salman', 'pr': 42343, 'qn': 5},\n",
              " '1005': {'name': 'Anil', 'pr': 100000, 'qn': 9},\n",
              " '1006': {'name': 'Dhruv', 'pr': 4424342, 'qn': 10},\n",
              " '1007': {'name': 'Krish', 'pr': 19, 'qn': 1},\n",
              " '1008': {'name': 'Monika', 'pr': 90, 'qn': 1},\n",
              " '1009': {'name': 'Om', 'pr': 42342, 'qn': 3},\n",
              " '1010': {'name': 'Sid', 'pr': 99999, 'qn': 6},\n",
              " '1011': {'name': 'Pranav', 'pr': 22, 'qn': 1}}"
            ]
          },
          "metadata": {},
          "execution_count": 14
        }
      ]
    },
    {
      "cell_type": "code",
      "metadata": {
        "id": "ji7rt0Oas0sH"
      },
      "source": [
        "del record['1001']"
      ],
      "execution_count": 15,
      "outputs": []
    },
    {
      "cell_type": "code",
      "metadata": {
        "colab": {
          "base_uri": "https://localhost:8080/"
        },
        "id": "zhKEPahws5Sw",
        "outputId": "78e0aefe-a7d5-4d10-d6b8-4f14d6440d60"
      },
      "source": [
        "record"
      ],
      "execution_count": 16,
      "outputs": [
        {
          "output_type": "execute_result",
          "data": {
            "text/plain": [
              "{'1002': {'name': 'Aman', 'pr': 100, 'qn': 1},\n",
              " '1003': {'name': 'Rahul', 'pr': 5000, 'qn': 4},\n",
              " '1004': {'name': 'Salman', 'pr': 42343, 'qn': 5},\n",
              " '1005': {'name': 'Anil', 'pr': 100000, 'qn': 9},\n",
              " '1006': {'name': 'Dhruv', 'pr': 4424342, 'qn': 10},\n",
              " '1007': {'name': 'Krish', 'pr': 19, 'qn': 1},\n",
              " '1008': {'name': 'Monika', 'pr': 90, 'qn': 1},\n",
              " '1009': {'name': 'Om', 'pr': 42342, 'qn': 3},\n",
              " '1010': {'name': 'Sid', 'pr': 99999, 'qn': 6},\n",
              " '1011': {'name': 'Pranav', 'pr': 22, 'qn': 1}}"
            ]
          },
          "metadata": {},
          "execution_count": 16
        }
      ]
    },
    {
      "cell_type": "code",
      "metadata": {
        "id": "Rv5jr6NJs7Rj"
      },
      "source": [
        ""
      ],
      "execution_count": null,
      "outputs": []
    }
  ]
}