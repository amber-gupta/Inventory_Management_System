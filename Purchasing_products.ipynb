{
  "nbformat": 4,
  "nbformat_minor": 0,
  "metadata": {
    "colab": {
      "name": "Purchasing_products.ipynb",
      "provenance": [],
      "authorship_tag": "ABX9TyPuCOOsWcDLXl2TvIGhd3yW",
      "include_colab_link": true
    },
    "kernelspec": {
      "name": "python3",
      "display_name": "Python 3"
    },
    "language_info": {
      "name": "python"
    }
  },
  "cells": [
    {
      "cell_type": "markdown",
      "metadata": {
        "id": "view-in-github",
        "colab_type": "text"
      },
      "source": [
        "<a href=\"https://colab.research.google.com/github/amber-gupta/Inventory_Management_System/blob/main/Purchasing_products.ipynb\" target=\"_parent\"><img src=\"https://colab.research.google.com/assets/colab-badge.svg\" alt=\"Open In Colab\"/></a>"
      ]
    },
    {
      "cell_type": "markdown",
      "metadata": {
        "id": "kFU8OSeYtOGZ"
      },
      "source": [
        "## Read Inventory"
      ]
    },
    {
      "cell_type": "code",
      "metadata": {
        "id": "65JpkL4WtDD3"
      },
      "source": [
        "import json\n",
        "\n",
        "fd = open(\"record.json\",'r')\n",
        "r = fd.read()\n",
        "fd.close()\n",
        "\n",
        "records = json.loads(r)"
      ],
      "execution_count": 1,
      "outputs": []
    },
    {
      "cell_type": "code",
      "metadata": {
        "colab": {
          "base_uri": "https://localhost:8080/"
        },
        "id": "h_dElGA2tM8k",
        "outputId": "3b37020d-8c66-4d79-ea1f-1d35723aa896"
      },
      "source": [
        "records"
      ],
      "execution_count": 2,
      "outputs": [
        {
          "output_type": "execute_result",
          "data": {
            "text/plain": [
              "{'1001': {'name': 'Choco Cake', 'pr': 100, 'qn': 34},\n",
              " '1002': {'name': 'Milk Cake', 'pr': 800, 'qn': 100},\n",
              " '1003': {'name': 'Drink', 'pr': 85, 'qn': 100},\n",
              " '1004': {'name': 'Candy', 'pr': 5, 'qn': 1000},\n",
              " '1005': {'name': 'Pen', 'pr': 20, 'qn': 100},\n",
              " '1006': {'name': 'Phone', 'pr': 50000, 'qn': 10},\n",
              " '1007': {'name': 'Mic', 'pr': 1500, 'qn': 0},\n",
              " '1008': {'name': 'Case', 'pr': 599, 'qn': 5},\n",
              " '1009': {'name': 'Keyboard', 'pr': 1999, 'qn': 10}}"
            ]
          },
          "metadata": {},
          "execution_count": 2
        }
      ]
    },
    {
      "cell_type": "markdown",
      "metadata": {
        "id": "3rDnb8VFt01-"
      },
      "source": [
        "## Purchase"
      ]
    },
    {
      "cell_type": "code",
      "metadata": {
        "colab": {
          "base_uri": "https://localhost:8080/"
        },
        "id": "W8nLLAZHt5SM",
        "outputId": "16868b0a-96bf-4901-f9b5-51a30c9afbc2"
      },
      "source": [
        "prod_id  = str(input(\"Enter the Product_Id : \"))\n",
        "prod_quant = int(input(\"Enter the Quantity : \"))\n",
        "\n",
        "print(\"--------------------------\")\n",
        "print(\"Product Name : \", records [prod_id] ['name'])\n",
        "print(\"Price : \",records [prod_id] ['pr'])\n",
        "\n",
        "print(\"***************************\")\n",
        "print(\"Billing Amount : \", records [prod_id] ['pr'] * prod_quant)\n",
        "print(\"***************************\")\n",
        "\n",
        "records [prod_id] ['qn'] = records [prod_id] ['qn'] * prod_quant"
      ],
      "execution_count": 6,
      "outputs": [
        {
          "output_type": "stream",
          "name": "stdout",
          "text": [
            "Enter the Product_Id : 1002\n",
            "Enter the Quantity : 2\n",
            "--------------------------\n",
            "Product Name :  Milk Cake\n",
            "Price :  800\n",
            "***************************\n",
            "Billing Amount :  1600\n",
            "***************************\n"
          ]
        }
      ]
    },
    {
      "cell_type": "markdown",
      "metadata": {
        "id": "AxBlZtcL3Olf"
      },
      "source": [
        "## Update Inventory after purchase"
      ]
    },
    {
      "cell_type": "code",
      "metadata": {
        "id": "BaQT2-O53RHY"
      },
      "source": [
        "js = json.dumps(records)\n",
        "\n",
        "file = open(\"record.json\",'w')\n",
        "file.write(js)\n",
        "file.close()"
      ],
      "execution_count": 7,
      "outputs": []
    },
    {
      "cell_type": "code",
      "metadata": {
        "colab": {
          "base_uri": "https://localhost:8080/",
          "height": 86
        },
        "id": "rbeI9l6H3S-T",
        "outputId": "e08dc936-07f6-4003-ac30-865c7a67f810"
      },
      "source": [
        "js"
      ],
      "execution_count": 8,
      "outputs": [
        {
          "output_type": "execute_result",
          "data": {
            "application/vnd.google.colaboratory.intrinsic+json": {
              "type": "string"
            },
            "text/plain": [
              "'{\"1001\": {\"name\": \"Choco Cake\", \"qn\": 34, \"pr\": 100}, \"1002\": {\"name\": \"Milk Cake\", \"pr\": 800, \"qn\": 200}, \"1003\": {\"name\": \"Drink\", \"pr\": 85, \"qn\": 100}, \"1004\": {\"name\": \"Candy\", \"pr\": 5, \"qn\": 1000}, \"1005\": {\"name\": \"Pen\", \"pr\": 20, \"qn\": 100}, \"1006\": {\"name\": \"Phone\", \"pr\": 50000, \"qn\": 10}, \"1007\": {\"name\": \"Mic\", \"pr\": 1500, \"qn\": 0}, \"1008\": {\"name\": \"Case\", \"pr\": 599, \"qn\": 5}, \"1009\": {\"name\": \"Keyboard\", \"pr\": 1999, \"qn\": 10}}'"
            ]
          },
          "metadata": {},
          "execution_count": 8
        }
      ]
    },
    {
      "cell_type": "markdown",
      "metadata": {
        "id": "GSq_hJ8n3cmV"
      },
      "source": [
        "## Sales JSON"
      ]
    },
    {
      "cell_type": "code",
      "metadata": {
        "colab": {
          "base_uri": "https://localhost:8080/"
        },
        "id": "06CB1HfV3eFM",
        "outputId": "c83785ea-1da8-4fe6-bf50-c8ccc52e88b4"
      },
      "source": [
        "{'product' : prod_id, 'quantity' : prod_quant, 'amount': records[prod_id]['pr'] * prod_quant}"
      ],
      "execution_count": 13,
      "outputs": [
        {
          "output_type": "execute_result",
          "data": {
            "text/plain": [
              "{'amount': 1600, 'product': '1002', 'quantity': 2}"
            ]
          },
          "metadata": {},
          "execution_count": 13
        }
      ]
    },
    {
      "cell_type": "code",
      "metadata": {
        "id": "QViFJKyx3x1w"
      },
      "source": [
        "sales = {1 : {'product' : prod_id, 'quantity' : prod_quant, 'amount': records[prod_id]['pr'] * prod_quant},\n",
        "         2 : {'product' : prod_id, 'quantity' : prod_quant, 'amount': records[prod_id]['pr'] * prod_quant},\n",
        "         3 : {'product' : prod_id, 'quantity' : prod_quant, 'amount': records[prod_id]['pr'] * prod_quant}}"
      ],
      "execution_count": 14,
      "outputs": []
    },
    {
      "cell_type": "code",
      "metadata": {
        "id": "6JfPq2fK4bze"
      },
      "source": [
        "\n",
        "sale = json.dumps(sales)"
      ],
      "execution_count": 15,
      "outputs": []
    },
    {
      "cell_type": "code",
      "metadata": {
        "id": "gnwZr3Vu4fEB"
      },
      "source": [
        "file = open(\"sales.json\",'w')\n",
        "r = file.write(sale)\n",
        "file.close()"
      ],
      "execution_count": 16,
      "outputs": []
    },
    {
      "cell_type": "code",
      "metadata": {
        "colab": {
          "base_uri": "https://localhost:8080/"
        },
        "id": "pGgFU4D74h89",
        "outputId": "72b9de4a-5f45-46fc-b859-97aefa6c97a7"
      },
      "source": [
        "r"
      ],
      "execution_count": 17,
      "outputs": [
        {
          "output_type": "execute_result",
          "data": {
            "text/plain": [
              "171"
            ]
          },
          "metadata": {},
          "execution_count": 17
        }
      ]
    },
    {
      "cell_type": "code",
      "metadata": {
        "id": "E4NrJPYt4joC"
      },
      "source": [
        ""
      ],
      "execution_count": null,
      "outputs": []
    }
  ]
}